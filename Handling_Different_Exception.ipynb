{
 "cells": [
  {
   "cell_type": "code",
   "execution_count": 1,
   "id": "967eb983",
   "metadata": {},
   "outputs": [
    {
     "data": {
      "text/plain": [
       "14"
      ]
     },
     "execution_count": 1,
     "metadata": {},
     "output_type": "execute_result"
    }
   ],
   "source": [
    "a=5\n",
    "b=9\n",
    "a+b"
   ]
  },
  {
   "cell_type": "code",
   "execution_count": 3,
   "id": "24d9e9c5",
   "metadata": {},
   "outputs": [
    {
     "name": "stdout",
     "output_type": "stream",
     "text": [
      "Enter a number:klhjgfdsa\n",
      "Exception Occured\n",
      "invalid literal for int() with base 10: 'klhjgfdsa'\n",
      "Thanks for using this code!!!\n"
     ]
    }
   ],
   "source": [
    "try:\n",
    "    a = int(input(\"Enter a number:\"))\n",
    "    c = 1/a\n",
    "    print(c)\n",
    "except Exception as e:\n",
    "    print(\"Exception Occured\")\n",
    "    print(e)\n",
    "print(\"Thanks for using this code!!!\")"
   ]
  },
  {
   "cell_type": "code",
   "execution_count": 4,
   "id": "c8e8be45",
   "metadata": {},
   "outputs": [
    {
     "name": "stdout",
     "output_type": "stream",
     "text": [
      "Enter a number:5\n",
      "0.2\n",
      "Thanks for using this code!!!\n"
     ]
    }
   ],
   "source": [
    "try:\n",
    "    a = int(input(\"Enter a number:\"))\n",
    "    c = 1/a\n",
    "    print(c)\n",
    "except Exception as e:\n",
    "    print(\"Exception Occured\")\n",
    "    print(e)\n",
    "print(\"Thanks for using this code!!!\")"
   ]
  },
  {
   "cell_type": "code",
   "execution_count": 5,
   "id": "51c57d7a",
   "metadata": {},
   "outputs": [
    {
     "name": "stdout",
     "output_type": "stream",
     "text": [
      "Enter a number:lkjhgfd\n",
      "Exception1 Occured\n",
      "invalid literal for int() with base 10: 'lkjhgfd'\n",
      "Thanks for using this code!!!\n"
     ]
    }
   ],
   "source": [
    "try:\n",
    "    a = int(input(\"Enter a number:\"))\n",
    "    c = 1/a\n",
    "    print(c)\n",
    "except ValueError as e:\n",
    "    print(\"Exception1 Occured\")\n",
    "    print(e)\n",
    "\n",
    "except ZeroDivisionError as e:\n",
    "    print(\"Exception2 Occured\")\n",
    "    print(e)\n",
    "print(\"Thanks for using this code!!!\")"
   ]
  },
  {
   "cell_type": "code",
   "execution_count": 7,
   "id": "01747059",
   "metadata": {},
   "outputs": [
    {
     "name": "stdout",
     "output_type": "stream",
     "text": [
      "Enter a number:0\n",
      "Exception2 Occured\n",
      "division by zero\n",
      "Thanks for using this code!!!\n"
     ]
    }
   ],
   "source": [
    "try:\n",
    "    a = int(input(\"Enter a number:\"))\n",
    "    c = 1/a\n",
    "    print(c)\n",
    "except ValueError as e:\n",
    "    print(\"Exception1 Occured\")\n",
    "    print(e)\n",
    "\n",
    "except ZeroDivisionError as e:\n",
    "    print(\"Exception2 Occured\")\n",
    "    print(e)\n",
    "print(\"Thanks for using this code!!!\")"
   ]
  },
  {
   "cell_type": "code",
   "execution_count": 8,
   "id": "8efdafd0",
   "metadata": {},
   "outputs": [
    {
     "name": "stdout",
     "output_type": "stream",
     "text": [
      "Enter a number:lkjhg\n",
      "Please Enter a Valid Value\n",
      "Thanks for using this code!!!\n"
     ]
    }
   ],
   "source": [
    "try:\n",
    "    a = int(input(\"Enter a number:\"))\n",
    "    c = 1/a\n",
    "    print(c)\n",
    "except ValueError as e:\n",
    "    print(\"Please Enter a Valid Value\")\n",
    "    \n",
    "\n",
    "except ZeroDivisionError as e:\n",
    "    print(\"Make Sure that you are not dividing by 0\")\n",
    "    \n",
    "print(\"Thanks for using this code!!!\")"
   ]
  },
  {
   "cell_type": "code",
   "execution_count": 9,
   "id": "cb648427",
   "metadata": {},
   "outputs": [
    {
     "name": "stdout",
     "output_type": "stream",
     "text": [
      "Enter a number:0\n",
      "Make Sure that you are not dividing by 0\n",
      "Thanks for using this code!!!\n"
     ]
    }
   ],
   "source": [
    "try:\n",
    "    a = int(input(\"Enter a number:\"))\n",
    "    c = 1/a\n",
    "    print(c)\n",
    "except ValueError as e:\n",
    "    print(\"Please Enter a Valid Value\")\n",
    "    \n",
    "\n",
    "except ZeroDivisionError as e:\n",
    "    print(\"Make Sure that you are not dividing by 0\")\n",
    "    \n",
    "print(\"Thanks for using this code!!!\")"
   ]
  },
  {
   "cell_type": "code",
   "execution_count": null,
   "id": "bedacc01",
   "metadata": {},
   "outputs": [],
   "source": []
  }
 ],
 "metadata": {
  "kernelspec": {
   "display_name": "Python 3 (ipykernel)",
   "language": "python",
   "name": "python3"
  },
  "language_info": {
   "codemirror_mode": {
    "name": "ipython",
    "version": 3
   },
   "file_extension": ".py",
   "mimetype": "text/x-python",
   "name": "python",
   "nbconvert_exporter": "python",
   "pygments_lexer": "ipython3",
   "version": "3.9.7"
  }
 },
 "nbformat": 4,
 "nbformat_minor": 5
}
